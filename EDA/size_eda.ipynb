{
 "cells": [
  {
   "cell_type": "code",
   "execution_count": 5,
   "metadata": {},
   "outputs": [
    {
     "name": "stdout",
     "output_type": "stream",
     "text": [
      "loading annotations into memory...\n",
      "Done (t=0.01s)\n",
      "creating index...\n",
      "index created!\n",
      "52.19032507633663%\n"
     ]
    }
   ],
   "source": [
    "import pycocotools.coco as coco\n",
    "\n",
    "path = \"/opt/ml/item_box_competition/data/train.json\"\n",
    "\n",
    "# find the average percentage of bounding box area to image area in coco dataset\n",
    "\n",
    "# load the annotations file\n",
    "anno = coco.COCO(path)\n",
    "avg=0\n",
    "for attr in anno.loadAnns(anno.getAnnIds()):\n",
    "    avg+=attr['area']/anno.loadImgs(attr['image_id'])[0]['height']/anno.loadImgs(attr['image_id'])[0]['width']\n",
    "avg/=len(anno.loadAnns(anno.getAnnIds()))\n",
    "print(f\"{avg*100}%\")\n"
   ]
  }
 ],
 "metadata": {
  "kernelspec": {
   "display_name": "item",
   "language": "python",
   "name": "python3"
  },
  "language_info": {
   "codemirror_mode": {
    "name": "ipython",
    "version": 3
   },
   "file_extension": ".py",
   "mimetype": "text/x-python",
   "name": "python",
   "nbconvert_exporter": "python",
   "pygments_lexer": "ipython3",
   "version": "3.8.17"
  },
  "orig_nbformat": 4
 },
 "nbformat": 4,
 "nbformat_minor": 2
}
