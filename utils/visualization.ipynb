{
 "cells": [
  {
   "cell_type": "code",
   "execution_count": null,
   "metadata": {},
   "outputs": [],
   "source": [
    "import json\n",
    "import matplotlib.pyplot as plt\n",
    "from PIL import Image\n",
    "\n",
    "annotation_file=\"/workspace/item_box_competition/data/modi_validation.json\"\n",
    "bbox_file=\"/workspace/SKU110K-DenseDet/out.bbox.json\"\n",
    "image_prefix=\"/workspace/item_box_competition/data/validation/\"\n",
    "\n",
    "\n",
    "# show bbox on an image by image id from annotation file and bbox_file\n",
    "IMAGE_ID=5\n",
    "\n",
    "ann=json.load(open(annotation_file))\n",
    "bbox=json.load(open(bbox_file))\n",
    "im = Image.open(image_prefix+ann[\"images\"][IMAGE_ID][\"file_name\"])\n",
    "fig, ax = plt.subplots()\n",
    "ax.imshow(im)\n",
    "for e in bbox:\n",
    "    if e['image_id']==IMAGE_ID:\n",
    "        ax.add_patch(plt.Rectangle((e['bbox'][0],e['bbox'][1]),e['bbox'][2],e['bbox'][3],fill=False,edgecolor='red',linewidth=1))\n",
    "        \n",
    "plt.savefig('savefig_default.png')\n"
   ]
  }
 ],
 "metadata": {
  "kernelspec": {
   "display_name": "base",
   "language": "python",
   "name": "python3"
  },
  "language_info": {
   "name": "python",
   "version": "3.6.9"
  },
  "orig_nbformat": 4
 },
 "nbformat": 4,
 "nbformat_minor": 2
}
